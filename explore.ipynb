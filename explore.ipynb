{
 "cells": [
  {
   "cell_type": "code",
   "execution_count": 1,
   "metadata": {},
   "outputs": [],
   "source": [
    "import gspread\n",
    "import pandas as pd\n",
    "from torch import Tensor\n",
    "import re\n",
    "\n",
    "from gradient_sheets import get_tensor_sheet, get_grads, percent_grads, get_children, find_edges"
   ]
  },
  {
   "cell_type": "code",
   "execution_count": 2,
   "metadata": {},
   "outputs": [],
   "source": [
    "gc = gspread.oauth()"
   ]
  },
  {
   "cell_type": "code",
   "execution_count": 3,
   "metadata": {},
   "outputs": [],
   "source": [
    "sh = gc.open_by_key(\"1dGNB0YbWVPcD5-GDD9WDaFj9K3o0qppFLEuOK6e8CoI\")\n",
    "worksheet = sh.sheet1\n",
    "\n",
    "formula_sheet = worksheet.get_values(value_render_option='FORMULA')\n",
    "tensor_sheet = get_tensor_sheet(formula_sheet)\n",
    "\n",
    "grads = get_grads(tensor_sheet, 'I7', leaf_only=False)"
   ]
  },
  {
   "cell_type": "code",
   "execution_count": 4,
   "metadata": {},
   "outputs": [
    {
     "name": "stdout",
     "output_type": "stream",
     "text": [
      "('I7', 1.0)\n",
      "('F10', 0.6342)\n",
      "('B2', -0.4242)\n",
      "('B4', -0.4242)\n",
      "('I3', 0.3658)\n",
      "('B16', 0.3276)\n",
      "('B9', 0.2402)\n",
      "('F8', 0.2402)\n",
      "('F9', -0.2402)\n",
      "('B14', -0.2245)\n",
      "('B5', -0.1997)\n",
      "('F2', -0.1997)\n",
      "('F7', 0.1818)\n",
      "('B6', 0.1693)\n",
      "('F3', -0.1524)\n",
      "('B17', 0.137)\n",
      "('B27', 0.137)\n",
      "('B7', 0.0708)\n",
      "('F6', -0.0405)\n",
      "('B3', -0.0202)\n",
      "('F5', -0.0137)\n"
     ]
    }
   ],
   "source": [
    "\n",
    "\n",
    "p_grads = percent_grads(grads, tensor_sheet, 'I7')\n",
    "sorted_p_grads = sorted(p_grads.items(), key=lambda x: abs(x[1]), reverse=True)\n",
    "# sorted_p_grads\n",
    "# * 100\n",
    "print(\"\\n\".join([\n",
    "    f\"{(cell_name, round(grad * 100, 4))}\"\n",
    "    for cell_name, grad in sorted_p_grads\n",
    "]))"
   ]
  },
  {
   "cell_type": "code",
   "execution_count": 5,
   "metadata": {},
   "outputs": [
    {
     "data": {
      "text/plain": [
       "{'I7': [{'F10': []},\n",
       "  {'I3': [{'B5': [{'B4': [{'B2': []}, {'B3': [{'B2': []}]}, {'F7': []}]},\n",
       "      {'F2': [{'B16': []},\n",
       "        {'B17': [{'B27': []}]},\n",
       "        {'B14': [{'B4': [{'B2': []}, {'B3': [{'B2': []}]}, {'F7': []}]}]}]}]},\n",
       "    {'F3': []},\n",
       "    {'F8': [{'B9': [{'B7': [{'B17': [{'B27': []}]}]}, {'B6': [{'B16': []}]}]},\n",
       "      {'F9': []}]},\n",
       "    {'B5': [{'B4': [{'B2': []}, {'B3': [{'B2': []}]}, {'F7': []}]},\n",
       "      {'F2': [{'B16': []},\n",
       "        {'B17': [{'B27': []}]},\n",
       "        {'B14': [{'B4': [{'B2': []}, {'B3': [{'B2': []}]}, {'F7': []}]}]}]}]},\n",
       "    {'F3': []},\n",
       "    {'F6': []},\n",
       "    {'F5': []},\n",
       "    {'F5': []},\n",
       "    {'F3': []},\n",
       "    {'F5': []}]}]}"
      ]
     },
     "execution_count": 5,
     "metadata": {},
     "output_type": "execute_result"
    }
   ],
   "source": [
    "\n",
    "\n",
    "\n",
    "\n",
    "tree = get_children('I7', formula_sheet)\n",
    "tree"
   ]
  },
  {
   "cell_type": "code",
   "execution_count": 3,
   "metadata": {},
   "outputs": [
    {
     "name": "stdout",
     "output_type": "stream",
     "text": [
      "0\n",
      "1\n",
      "2\n",
      "3\n",
      "4\n",
      "5\n",
      "6\n",
      "7\n",
      "8\n",
      "9\n",
      "10\n"
     ]
    }
   ],
   "source": [
    "from itertools import count\n",
    "\n",
    "for i in count():\n",
    "    print(i)\n",
    "    if i == 10:\n",
    "        break"
   ]
  }
 ],
 "metadata": {
  "kernelspec": {
   "display_name": ".env",
   "language": "python",
   "name": "python3"
  },
  "language_info": {
   "codemirror_mode": {
    "name": "ipython",
    "version": 3
   },
   "file_extension": ".py",
   "mimetype": "text/x-python",
   "name": "python",
   "nbconvert_exporter": "python",
   "pygments_lexer": "ipython3",
   "version": "3.10.6 (main, Nov 14 2022, 16:10:14) [GCC 11.3.0]"
  },
  "orig_nbformat": 4,
  "vscode": {
   "interpreter": {
    "hash": "27094b9d637dbbd5689b3ed060cda99b8fd86de549f3c6b09785e6b040c6fa80"
   }
  }
 },
 "nbformat": 4,
 "nbformat_minor": 2
}
